{
 "cells": [
  {
   "cell_type": "markdown",
   "metadata": {},
   "source": [
    "# Phone Price Prediction Project"
   ]
  },
  {
   "cell_type": "code",
   "execution_count": 1,
   "metadata": {},
   "outputs": [],
   "source": [
    "import re\n",
    "import numpy as np\n",
    "import pandas as pd\n",
    "pd.set_option(\"display.max_columns\", None)\n",
    "\n",
    "from itables import show\n",
    "import seaborn as sns"
   ]
  },
  {
   "cell_type": "code",
   "execution_count": null,
   "metadata": {},
   "outputs": [],
   "source": [
    "df = pd.read_csv('phone_data.csv', index_col='Unnamed: 0')"
   ]
  },
  {
   "cell_type": "code",
   "execution_count": null,
   "metadata": {},
   "outputs": [],
   "source": [
    "show(df, maxBytes=0)"
   ]
  },
  {
   "cell_type": "markdown",
   "metadata": {},
   "source": [
    "The column names are in Indonesian and they contain spaces. Let's translate them to english and standardize the column format using `column_mapper.csv` before we proceed to data analysis"
   ]
  },
  {
   "cell_type": "code",
   "execution_count": null,
   "metadata": {},
   "outputs": [],
   "source": [
    "column_mapper = pd.read_csv('column_mapper.csv', index_col='col_id').squeeze().to_dict()\n",
    "df.columns = df.columns.map(column_mapper)\n",
    "df.columns"
   ]
  },
  {
   "cell_type": "markdown",
   "metadata": {},
   "source": [
    "# 1. Column Transformation"
   ]
  },
  {
   "cell_type": "code",
   "execution_count": null,
   "metadata": {},
   "outputs": [],
   "source": [
    "show(df, maxBytes=0)"
   ]
  },
  {
   "cell_type": "markdown",
   "metadata": {},
   "source": [
    "We can see that the scraped datas are not very workable since they are all stored as string. We'll first transform this values into numerical for easier analysis"
   ]
  },
  {
   "cell_type": "code",
   "execution_count": null,
   "metadata": {},
   "outputs": [],
   "source": [
    "clean_df = df.copy()"
   ]
  },
  {
   "cell_type": "code",
   "execution_count": null,
   "metadata": {},
   "outputs": [],
   "source": [
    "## Extract price\n",
    "clean_df['price'] = clean_df['price'].str.split(\"Rp\").str[1].str.replace(\".\", \"\").astype(float)"
   ]
  },
  {
   "cell_type": "code",
   "execution_count": null,
   "metadata": {},
   "outputs": [],
   "source": [
    "## Map Yes or No values to 0 and 1\n",
    "boolean_cols = [col for col in clean_df.columns if 'has' in col or 'is' in col]\n",
    "for col in boolean_cols:\n",
    "    clean_df[col] = clean_df[col].map({'Yes':1, 'No':0})"
   ]
  },
  {
   "cell_type": "code",
   "execution_count": null,
   "metadata": {},
   "outputs": [],
   "source": [
    "## Drop category\n",
    "clean_df = clean_df.drop(columns=['category'])"
   ]
  },
  {
   "cell_type": "code",
   "execution_count": null,
   "metadata": {},
   "outputs": [],
   "source": [
    "## Extract memory related values\n",
    "def extract_memory(string):\n",
    "    if pd.isnull(string):\n",
    "        return None\n",
    "    \n",
    "    if 'GB' in string:\n",
    "        return float(string.split('GB')[0])\n",
    "    \n",
    "    if 'TB' in string:\n",
    "        return float(string.split('TB')[0]) * 1024\n",
    "\n",
    "memory_cols = ['ram', 'internal_memory']\n",
    "for col in memory_cols:\n",
    "    clean_df[col] = clean_df[col].apply(extract_memory)"
   ]
  },
  {
   "cell_type": "code",
   "execution_count": null,
   "metadata": {},
   "outputs": [],
   "source": [
    "## Extract camera related values\n",
    "camera_resolution_cols = ['back_camera_resolution', 'front_camera_resolution', 'front_camera_resolution_2']\n",
    "for col in camera_resolution_cols:\n",
    "    clean_df[col] = clean_df[col].str.split('MP').str[0].astype(float)"
   ]
  },
  {
   "cell_type": "code",
   "execution_count": null,
   "metadata": {},
   "outputs": [],
   "source": [
    "## Extract values with constant unit\n",
    "clean_df['weight'] = clean_df['weight'].str.split('g').str[0].astype(float)\n",
    "clean_df['num_sim_slots'] = clean_df['num_sim_slots'].str.split('slot').str[0].astype(float)\n",
    "clean_df['screen_size'] = clean_df['screen_size'].str.split('inch').str[0].astype(float)\n",
    "clean_df['cpu_speed'] = clean_df['cpu_speed'].str.split('GHz').str[0].astype(float)\n",
    "clean_df['battery_capacity'] = clean_df['battery_capacity'].str.split('mAh').str[0].astype(float)"
   ]
  },
  {
   "cell_type": "code",
   "execution_count": null,
   "metadata": {},
   "outputs": [],
   "source": [
    "## Extract external memory capacity\n",
    "def extract_memory_capacity(string):\n",
    "    if pd.isnull(string):\n",
    "        return None\n",
    "    \n",
    "    match = re.search(r'(\\d+)\\s*(GB|TB)', string, re.IGNORECASE)\n",
    "    if match:\n",
    "        value = int(match.group(1))\n",
    "        return value * 1024 if match.group(2).upper() == 'TB' else value\n",
    "    return None\n",
    "\n",
    "clean_df['external_memory_capacity'] = clean_df['external_memory_capacity'].apply(extract_memory_capacity)"
   ]
  },
  {
   "cell_type": "markdown",
   "metadata": {},
   "source": [
    "### Transforming network column"
   ]
  },
  {
   "cell_type": "markdown",
   "metadata": {},
   "source": [
    "We'll drop `2g,3g,4g,5g_network` columns since the details are pretty hard to put into the models and instead, we'll just create boolean columns indicating whether a phone has 2g,3g,4g,5g network"
   ]
  },
  {
   "cell_type": "code",
   "execution_count": null,
   "metadata": {},
   "outputs": [],
   "source": [
    "## Transforming network column\n",
    "for i in range(2,6):\n",
    "    clean_df[f'has_{i}G_network'] = np.logical_or(f'{i}G' in clean_df['network'], ~clean_df[f'{i}g_network'].isnull())\n",
    "    clean_df[f'has_{i}G_network'] = clean_df[f'has_{i}G_network'].astype(int)\n",
    "clean_df = clean_df.drop(columns=['2g_network', '3g_network', '4g_network', '5g_network', 'network'])"
   ]
  },
  {
   "cell_type": "markdown",
   "metadata": {},
   "source": [
    "### Transforming material column"
   ]
  },
  {
   "cell_type": "code",
   "execution_count": null,
   "metadata": {},
   "outputs": [],
   "source": [
    "def extract_materials(description):\n",
    "    if pd.isnull(description):\n",
    "        return ('unspecified', 'unspecified', 'unspecified')\n",
    "    # Define patterns for each component\n",
    "    front_pattern = r'(glass|plastic|metal)(?=\\s+front)'\n",
    "    back_pattern = r'(glass|plastic|metal)(?=\\s+back)'\n",
    "    frame_pattern = r'(titanium|aluminum|steel|plastic)(?=\\s+frame)'\n",
    "\n",
    "    # Search for patterns in the description\n",
    "    front_match = re.search(front_pattern, description, re.IGNORECASE)\n",
    "    back_match = re.search(back_pattern, description, re.IGNORECASE)\n",
    "    frame_match = re.search(frame_pattern, description, re.IGNORECASE)\n",
    "\n",
    "    # Extract the matched materials\n",
    "    front_material = front_match.group(0) if front_match else 'unspecified'\n",
    "    back_material = back_match.group(0) if back_match else 'unspecified'\n",
    "    frame_material = frame_match.group(0) if frame_match else 'unspecified'\n",
    "\n",
    "    return front_material.lower(), back_material.lower(), frame_material.lower()"
   ]
  },
  {
   "cell_type": "code",
   "execution_count": null,
   "metadata": {},
   "outputs": [],
   "source": [
    "material_df = pd.DataFrame(\n",
    "    clean_df['material'].apply(extract_materials).to_list(),\n",
    "    columns=['front_material', 'back_material', 'frame_material'],\n",
    "    index=clean_df.index\n",
    "    )\n",
    "clean_df = pd.concat([clean_df, material_df], axis=1)\n",
    "clean_df = clean_df.drop(columns=['material'])"
   ]
  },
  {
   "cell_type": "markdown",
   "metadata": {},
   "source": [
    "### Transforming other main camera"
   ]
  },
  {
   "cell_type": "code",
   "execution_count": null,
   "metadata": {},
   "outputs": [],
   "source": [
    "# Define functions to compute mean, max, and min, handling conversion from strings\n",
    "def safe_mean(lst):\n",
    "    if isinstance(lst, list):\n",
    "        num_lst = [float(i) for i in lst if i.isnumeric()]\n",
    "        if num_lst:\n",
    "            return np.mean(num_lst)\n",
    "    return 0\n",
    "\n",
    "def safe_max(lst):\n",
    "    if isinstance(lst, list):\n",
    "        num_lst = [float(i) for i in lst if i.isnumeric()]\n",
    "        if num_lst:\n",
    "            return np.max(num_lst)\n",
    "    return 0\n",
    "\n",
    "def safe_min(lst):\n",
    "    if isinstance(lst, list):\n",
    "        num_lst = [float(i) for i in lst if i.isnumeric()]\n",
    "        if num_lst:\n",
    "            return np.min(num_lst)\n",
    "    return 0"
   ]
  },
  {
   "cell_type": "code",
   "execution_count": null,
   "metadata": {},
   "outputs": [],
   "source": [
    "other_main_camera = clean_df['other_main_camera_resolution'].str.split('MP').str[0].str.strip().str.split(',')\n",
    "\n",
    "clean_df['other_main_camera_mean'] = other_main_camera.apply(safe_mean)\n",
    "clean_df['other_main_camera_max'] = other_main_camera.apply(safe_max)\n",
    "clean_df['other_main_camera_min'] = other_main_camera.apply(safe_min)"
   ]
  },
  {
   "cell_type": "code",
   "execution_count": null,
   "metadata": {},
   "outputs": [],
   "source": [
    "clean_df = clean_df.drop(columns=['other_main_camera_resolution'])"
   ]
  },
  {
   "cell_type": "code",
   "execution_count": null,
   "metadata": {},
   "outputs": [],
   "source": [
    "show(clean_df, maxBytes=0)"
   ]
  },
  {
   "cell_type": "markdown",
   "metadata": {},
   "source": [
    "## 2. Handling Missing Values"
   ]
  },
  {
   "cell_type": "code",
   "execution_count": null,
   "metadata": {},
   "outputs": [],
   "source": [
    "def compute_missing_values_pct(df):\n",
    "    missing_values = pd.DataFrame(columns=['count', 'percentage'])\n",
    "    missing_values['count'] = df.isnull().astype(int).sum()\n",
    "    missing_values['percentage'] = missing_values['count'] / df.shape[0]\n",
    "    missing_values = missing_values.sort_values(by='percentage', ascending=False)\n",
    "\n",
    "    return missing_values\n",
    "\n",
    "def show_non_missing(df, col):\n",
    "    show(df.loc[~df[col].isnull(), [col, 'product_name', 'price']])"
   ]
  },
  {
   "cell_type": "code",
   "execution_count": null,
   "metadata": {},
   "outputs": [],
   "source": [
    "missing_values_pct = compute_missing_values_pct(clean_df)\n",
    "show(missing_values_pct)"
   ]
  },
  {
   "cell_type": "markdown",
   "metadata": {},
   "source": [
    "### 1a. Remove missing `price`"
   ]
  },
  {
   "cell_type": "code",
   "execution_count": null,
   "metadata": {},
   "outputs": [],
   "source": [
    "clean_df = clean_df.dropna(subset=['price'])\n",
    "show(compute_missing_values_pct(clean_df))"
   ]
  },
  {
   "cell_type": "markdown",
   "metadata": {},
   "source": [
    "### 1b. Remove columns with > 65% missing values"
   ]
  },
  {
   "cell_type": "code",
   "execution_count": null,
   "metadata": {},
   "outputs": [],
   "source": [
    "missing_values_pct = compute_missing_values_pct(clean_df)\n",
    "missing_values_pct = missing_values_pct[missing_values_pct['percentage'] >= 0.65]\n",
    "clean_df = clean_df.drop(columns=missing_values_pct.index)"
   ]
  },
  {
   "cell_type": "code",
   "execution_count": null,
   "metadata": {},
   "outputs": [],
   "source": [
    "show(compute_missing_values_pct(clean_df))"
   ]
  },
  {
   "cell_type": "markdown",
   "metadata": {},
   "source": [
    "### 1c. Fill categorical cols with mode"
   ]
  },
  {
   "cell_type": "code",
   "execution_count": null,
   "metadata": {},
   "outputs": [],
   "source": [
    "boolean_cols = [col for col in clean_df.columns if 'has' in col or 'is' in col]\n",
    "boolean_fill_value_dict = {\n",
    "    col:clean_df[col].mode()[0] for col in boolean_cols if col in clean_df.columns\n",
    "}\n",
    "clean_df = clean_df.fillna(boolean_fill_value_dict)"
   ]
  },
  {
   "cell_type": "code",
   "execution_count": null,
   "metadata": {},
   "outputs": [],
   "source": [
    "show(compute_missing_values_pct(clean_df))"
   ]
  },
  {
   "cell_type": "markdown",
   "metadata": {},
   "source": [
    "### 1d. Fill numerical cols with mean"
   ]
  },
  {
   "cell_type": "code",
   "execution_count": null,
   "metadata": {},
   "outputs": [],
   "source": [
    "fill_with_mean_cols = [\n",
    "    'weight', 'cpu_speed', 'ram', 'back_camera_resolution',\n",
    "    'front_camera_resolution', 'release_year', 'battery_capacity',\n",
    "    'screen_size'\n",
    "]\n",
    "clean_df = clean_df.fillna(clean_df[fill_with_mean_cols].mean().to_dict())"
   ]
  },
  {
   "cell_type": "code",
   "execution_count": null,
   "metadata": {},
   "outputs": [],
   "source": [
    "show(compute_missing_values_pct(clean_df))"
   ]
  },
  {
   "cell_type": "markdown",
   "metadata": {},
   "source": [
    "### 1e. Drop categorical cols with too many possible values"
   ]
  },
  {
   "cell_type": "code",
   "execution_count": null,
   "metadata": {},
   "outputs": [],
   "source": [
    "missing_values_pct = compute_missing_values_pct(clean_df).loc[clean_df.dtypes=='object']\n",
    "missing_values_pct = missing_values_pct[missing_values_pct['percentage'] > 0]"
   ]
  },
  {
   "cell_type": "code",
   "execution_count": null,
   "metadata": {},
   "outputs": [],
   "source": [
    "too_many_unique = clean_df.loc[:, missing_values_pct.index].nunique()\n",
    "too_many_unique = too_many_unique[too_many_unique > 10].index\n",
    "too_many_unique"
   ]
  },
  {
   "cell_type": "code",
   "execution_count": null,
   "metadata": {},
   "outputs": [],
   "source": [
    "clean_df = clean_df.drop(columns=too_many_unique)"
   ]
  },
  {
   "cell_type": "code",
   "execution_count": null,
   "metadata": {},
   "outputs": [],
   "source": [
    "show(compute_missing_values_pct(clean_df))"
   ]
  },
  {
   "cell_type": "markdown",
   "metadata": {},
   "source": [
    "### Handling external memory type"
   ]
  },
  {
   "cell_type": "code",
   "execution_count": null,
   "metadata": {},
   "outputs": [],
   "source": [
    "clean_df = clean_df.fillna({'external_memory_type':clean_df['external_memory_type'].mode()[0]})"
   ]
  },
  {
   "cell_type": "markdown",
   "metadata": {},
   "source": [
    "### Handling float cols with mean"
   ]
  },
  {
   "cell_type": "code",
   "execution_count": null,
   "metadata": {},
   "outputs": [],
   "source": [
    "show(compute_missing_values_pct(clean_df))"
   ]
  },
  {
   "cell_type": "code",
   "execution_count": null,
   "metadata": {},
   "outputs": [],
   "source": [
    "clean_df['battery_type'].value_counts()"
   ]
  },
  {
   "cell_type": "code",
   "execution_count": null,
   "metadata": {},
   "outputs": [],
   "source": [
    "clean_df.loc[clean_df['battery_type']=='Non-removable', 'battery_type'] = 'Non-Removable'"
   ]
  },
  {
   "cell_type": "code",
   "execution_count": null,
   "metadata": {},
   "outputs": [],
   "source": [
    "clean_df['num_core'].value_counts()"
   ]
  },
  {
   "cell_type": "code",
   "execution_count": null,
   "metadata": {},
   "outputs": [],
   "source": [
    "clean_df['num_core'] = clean_df['num_core'].map({\n",
    "    'Octa Core':8,\n",
    "    'Hexa Core':6,\n",
    "    'Quad Core':4,\n",
    "    'Dual Core':2,\n",
    "    'Deca Core':10\n",
    "})"
   ]
  },
  {
   "cell_type": "code",
   "execution_count": null,
   "metadata": {},
   "outputs": [],
   "source": [
    "clean_df['num_sim_slots'].value_counts()"
   ]
  },
  {
   "cell_type": "code",
   "execution_count": null,
   "metadata": {},
   "outputs": [],
   "source": [
    "clean_df['battery_material'].value_counts()"
   ]
  },
  {
   "cell_type": "code",
   "execution_count": null,
   "metadata": {},
   "outputs": [],
   "source": [
    "clean_df['num_back_camera'].value_counts()"
   ]
  },
  {
   "cell_type": "code",
   "execution_count": null,
   "metadata": {},
   "outputs": [],
   "source": [
    "clean_df['processor'].value_counts()"
   ]
  },
  {
   "cell_type": "code",
   "execution_count": null,
   "metadata": {},
   "outputs": [],
   "source": [
    "clean_df['sim_card_type'].value_counts()"
   ]
  },
  {
   "cell_type": "code",
   "execution_count": null,
   "metadata": {},
   "outputs": [],
   "source": [
    "cols_to_fill = ['battery_type', 'num_core', 'num_sim_slots', 'battery_material', 'num_back_camera', 'processor', 'sim_card_type']\n",
    "for col in cols_to_fill:\n",
    "    clean_df.loc[clean_df[col].isnull(), col] = clean_df[col].mode().values[0]"
   ]
  },
  {
   "cell_type": "code",
   "execution_count": null,
   "metadata": {},
   "outputs": [],
   "source": [
    "compute_missing_values_pct(clean_df)"
   ]
  },
  {
   "cell_type": "markdown",
   "metadata": {},
   "source": [
    "### Screener for personal phone purchase"
   ]
  },
  {
   "cell_type": "code",
   "execution_count": null,
   "metadata": {},
   "outputs": [],
   "source": [
    "screener = clean_df[\n",
    "    (clean_df['release_year']>=2023) & (clean_df['ram'] >= 8) & (clean_df['internal_memory'] >= 256)\n",
    "    & (clean_df['has_nfc']==1) & (clean_df['has_5G_network']==1)\n",
    "    ].sort_values(by='price')\n",
    "show(screener, maxBytes=0)"
   ]
  },
  {
   "cell_type": "markdown",
   "metadata": {},
   "source": [
    "## 2. Analyzing `price`"
   ]
  },
  {
   "cell_type": "code",
   "execution_count": null,
   "metadata": {},
   "outputs": [],
   "source": [
    "clean_df['price'].describe()"
   ]
  },
  {
   "cell_type": "code",
   "execution_count": null,
   "metadata": {},
   "outputs": [],
   "source": [
    "sns.displot(clean_df['price'], kde=True)"
   ]
  },
  {
   "cell_type": "markdown",
   "metadata": {},
   "source": [
    "As always, `price` is positively skewed. Proper way to address this is to use log price later in our model as it is much less skewed, shown in the below plot"
   ]
  },
  {
   "cell_type": "code",
   "execution_count": null,
   "metadata": {},
   "outputs": [],
   "source": [
    "clean_df['log_price'] = np.log(clean_df['price'])\n",
    "sns.displot(clean_df['log_price'], kde=True)"
   ]
  },
  {
   "cell_type": "code",
   "execution_count": null,
   "metadata": {},
   "outputs": [],
   "source": [
    "clean_df.corr(numeric_only=True)['log_price'].sort_values(ascending=False)"
   ]
  },
  {
   "cell_type": "code",
   "execution_count": null,
   "metadata": {},
   "outputs": [],
   "source": []
  },
  {
   "cell_type": "code",
   "execution_count": null,
   "metadata": {},
   "outputs": [],
   "source": []
  },
  {
   "cell_type": "code",
   "execution_count": null,
   "metadata": {},
   "outputs": [],
   "source": []
  }
 ],
 "metadata": {
  "kernelspec": {
   "display_name": "venv",
   "language": "python",
   "name": "python3"
  },
  "language_info": {
   "codemirror_mode": {
    "name": "ipython",
    "version": 3
   },
   "file_extension": ".py",
   "mimetype": "text/x-python",
   "name": "python",
   "nbconvert_exporter": "python",
   "pygments_lexer": "ipython3",
   "version": "3.11.4"
  }
 },
 "nbformat": 4,
 "nbformat_minor": 2
}
